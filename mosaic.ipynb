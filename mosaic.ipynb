{
 "cells": [
  {
   "cell_type": "markdown",
   "metadata": {},
   "source": [
    "# Mosaic Creation\n",
    "With this notebook you will learn how to create a mosaic in form of a picture from hundreds of other pictures. This examplary notebooks works with a [flower dataset](https://www.robots.ox.ac.uk/~vgg/data/flowers/102/index.html). Some parts of this code is used from the project [mosaic-cv](https://github.com/nekrotzar/mosaic-cv).\n"
   ]
  },
  {
   "cell_type": "code",
   "execution_count": null,
   "metadata": {},
   "outputs": [],
   "source": [
    "import os\n",
    "import time \n",
    "import argparse\n",
    "\n",
    "import cv2 as cv\n",
    "import numpy as np\n",
    "import progress.bar\n",
    "from tqdm.notebook import tqdm, trange\n",
    "from matplotlib import pyplot as plt\n",
    "\n",
    "IMAGE_FILE_FORMATS = ['.JPG', '.jpg', '.png']\n",
    "\n",
    "#images_path = './data_flowers/'\n",
    "#target_path = './data/Porsche_Taycan.jpg'\n",
    "images_path = 'C:/Users/info/OneDrive/Pictures/'\n",
    "target_path = 'data/_DSC0914.JPG'\n",
    "target_scale = 10\n",
    "block_size = 100"
   ]
  },
  {
   "cell_type": "code",
   "execution_count": null,
   "metadata": {},
   "outputs": [],
   "source": [
    "def process_image(path, size):\n",
    "    # crop and resize images according to given block size\n",
    "    # path: image directory containing mosaic images\n",
    "    # size: size of mosaic block (pixels)\n",
    "    # returns np.ndarray containing BGR color values\n",
    "    \n",
    "    image = cv.imread(path)\n",
    "    height, width = image.shape[0], image.shape[1]\n",
    "\n",
    "    # Crop image in order to avoid distortion\n",
    "    min_dim = np.min((height, width))\n",
    "    w_crop = int((width-min_dim) / 2)\n",
    "    h_crop = int((height-min_dim) / 2)\n",
    "    crop = image[h_crop:height-h_crop, w_crop:width-w_crop]\n",
    "\n",
    "    # Resize cropped image to target block size\n",
    "    target_image = cv.resize(crop, (size, size))\n",
    "    return target_image\n",
    "\n",
    "data = []\n",
    "print(\"Analysing dataset...\")\n",
    "for (root, _, filenames) in os.walk(images_path):       \n",
    "    for filename in filenames:\n",
    "        if filename[-4:] in IMAGE_FILE_FORMATS:\n",
    "            path = os.path.join(root, filename)\n",
    "            proc = process_image(path, block_size)\n",
    "            data.append(proc)"
   ]
  },
  {
   "cell_type": "code",
   "execution_count": null,
   "metadata": {},
   "outputs": [],
   "source": [
    "# Read target image\n",
    "target = cv.imread(target_path)\n",
    "target = cv.resize(target, None, fx=target_scale, fy=target_scale, interpolation=cv.INTER_AREA)\n",
    "height, width = target.shape[:2]\n",
    "\n",
    "# Crop image to fit an integer number of mosaic blocks per row and column\n",
    "w_crop = int((width % block_size))\n",
    "h_crop = int((height % block_size))\n",
    "\n",
    "if w_crop or h_crop:\n",
    "    w_adjust = 1 if (w_crop % 2) else 0\n",
    "    h_adjust = 1 if (h_crop % 2) else 0\n",
    "    min_h, min_w = int(h_crop/2), int(w_crop/2)\n",
    "    target = target[min_h:height-(min_h + h_adjust), min_w: width-(min_w + w_adjust)]\n",
    "\n",
    "# Create blank image with target dimensions\n",
    "output = np.zeros(target.shape, dtype=np.uint8)\n",
    "(height, width) = output.shape[:2]\n",
    "\n",
    "row_size = int(height / block_size)\n",
    "col_size = int(width / block_size)\n",
    "n_blocks = row_size * col_size\n",
    "print(\"\\tNumber of mosaic blocks: {0} rows x {1} cols = {2}\".format(row_size, col_size, n_blocks)) "
   ]
  },
  {
   "cell_type": "code",
   "execution_count": null,
   "metadata": {},
   "outputs": [],
   "source": [
    "def average_color(data):\n",
    "    # get average color \n",
    "\n",
    "    # data: np.ndarray, an array of array of length 3 (R,G,B)\n",
    "    average_row_color = np.average(data, axis=0)\n",
    "    average_color = np.average(average_row_color, axis=0)\n",
    "\n",
    "    return average_color\n",
    "\n",
    "plt.imshow(data[0])\n",
    "plt.show()\n",
    "\n",
    "# get average color\n",
    "avg_color = average_color(data[0])\n",
    "print('Average color: ', avg_color)\n",
    "img_color_r = np.ndarray([10,10])\n",
    "img_color_g = np.ndarray([10,10])\n",
    "img_color_b = np.ndarray([10,10])\n",
    "img_color_r = np.full((10,10), int(avg_color[0]))\n",
    "img_color_g = np.full((10,10), int(avg_color[1]))\n",
    "img_color_b = np.full((10,10), int(avg_color[2]))\n",
    "img_color_rgb = np.dstack((img_color_r,img_color_g,img_color_b))\n",
    "plt.imshow(img_color_rgb)\n",
    "plt.show()"
   ]
  },
  {
   "cell_type": "code",
   "execution_count": null,
   "metadata": {},
   "outputs": [],
   "source": [
    "# calculate average color for every input image\n",
    "data_avg_color = np.ndarray((len(data),3))\n",
    "n_blocks = len(data)\n",
    "print(n_blocks)\n",
    "#pbar = progress.bar.IncrementalBar('Create average colors...', max=n_blocks)\n",
    "for i in trange(len(data)):\n",
    "    data_avg_color[i] = average_color(data[i])\n",
    "    #pbar.next()\n",
    "\n",
    "#pbar.finish()\n",
    "# convert to uint\n",
    "data_avg_color = np.uint8(data_avg_color)\n"
   ]
  },
  {
   "cell_type": "code",
   "execution_count": null,
   "metadata": {},
   "outputs": [],
   "source": [
    "# find best fit from dataset\n",
    "def find_best_match(block, target_value, data):\n",
    "\n",
    "    \n",
    "    # block: block from target\n",
    "    # target_value: target metric value (RGB color array)\n",
    "    # data: blocks processed from the dataset\n",
    "\n",
    "    # returns numpy.ndarray: a block that best matches the color    \n",
    "    min_distance = np.Infinity\n",
    "    best_match = None\n",
    "\n",
    "    for i in range(len(data)):    \n",
    "        color = average_color(data[i])\n",
    "        distance = np.linalg.norm(target_value - color)\n",
    "\n",
    "        if distance < min_distance:\n",
    "            min_distance = distance\n",
    "            best_match = i\n",
    "\n",
    "    return best_match\n",
    "\n",
    "#pbar = progress.bar.IncrementalBar('Building mosaic', max=n_blocks)\n",
    "for r in range(row_size):\n",
    "    print('Processing row ', r)\n",
    "    for c in range(col_size):\n",
    "        h_pos = (block_size * r)\n",
    "        w_pos = (block_size * c)\n",
    "\n",
    "        block = target[h_pos:h_pos+block_size, w_pos:w_pos+block_size]\n",
    "\n",
    "        # Use average color as metric for block similarity\n",
    "        metric_value = average_color(block)\n",
    "        block = data[find_best_match(block, metric_value, data)]\n",
    "        \n",
    "        # Fill output with average color\n",
    "        output[h_pos:h_pos+block_size, w_pos:w_pos+block_size] = block\n",
    "        #pbar.next()\n",
    "    \n",
    "#pbar.finish()"
   ]
  },
  {
   "cell_type": "code",
   "execution_count": null,
   "metadata": {},
   "outputs": [],
   "source": [
    "cv.imwrite('mosaic_flowers.png', output)"
   ]
  }
 ],
 "metadata": {
  "kernelspec": {
   "display_name": "Python 3.8.13 ('pip_img_adv')",
   "language": "python",
   "name": "python3"
  },
  "language_info": {
   "codemirror_mode": {
    "name": "ipython",
    "version": 3
   },
   "file_extension": ".py",
   "mimetype": "text/x-python",
   "name": "python",
   "nbconvert_exporter": "python",
   "pygments_lexer": "ipython3",
   "version": "3.8.13"
  },
  "orig_nbformat": 4,
  "vscode": {
   "interpreter": {
    "hash": "a4a37615eae1f205541e8e7c9cd59d4d2e4d4299a685cbec9850c03e149fb191"
   }
  }
 },
 "nbformat": 4,
 "nbformat_minor": 2
}
